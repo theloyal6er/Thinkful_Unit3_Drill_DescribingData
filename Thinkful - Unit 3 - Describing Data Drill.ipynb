{
 "cells": [
  {
   "cell_type": "code",
   "execution_count": 1,
   "metadata": {},
   "outputs": [],
   "source": [
    "import numpy as np\n",
    "import matplotlib.pyplot as plt\n",
    "import pandas as pd\n",
    "import statistics\n",
    "data = pd.DataFrame()"
   ]
  },
  {
   "cell_type": "code",
   "execution_count": 2,
   "metadata": {},
   "outputs": [
    {
     "name": "stdout",
     "output_type": "stream",
     "text": [
      "     name  age\n",
      "0    Greg   14\n",
      "1  Marcia   12\n",
      "2   Peter   11\n",
      "3     Jan   10\n",
      "4   Bobby    8\n",
      "5   Cindy    6\n",
      "6  Oliver    8\n",
      "9.857142857142858\n",
      "10.0\n",
      "8\n",
      "7.476190476190475\n",
      "2.531435020952764\n",
      "0.9567925036515135\n"
     ]
    }
   ],
   "source": [
    "## Question #1\n",
    "data['name'] = ['Greg','Marcia','Peter','Jan','Bobby','Cindy','Oliver']\n",
    "data['age'] = [14,12,11,10,8,6,8]\n",
    "print(data)\n",
    "print(np.mean(data['age']))\n",
    "print(np.median(data['age']))\n",
    "print(statistics.mode(data['age']))\n",
    "print(data['age'].var())\n",
    "print(np.std(data['age']))\n",
    "print(np.std(data['age']) / np.sqrt(len(data['age'])))"
   ]
  },
  {
   "cell_type": "code",
   "execution_count": 7,
   "metadata": {},
   "outputs": [],
   "source": [
    "## Question 2\n",
    "## Mean -  The numbers are generally clustered around the same range of values so an average tells us best about \n",
    "## the central tendency of the dataset.\n",
    "## Standard Deviation - Because we are dealing with a population dataset - rather than a sample set - the standard\n",
    "## deviation tells me how varied the data is from the mean. 2.5 tells me generally that the numbers are relatively\n",
    "## close to each other so I would choose standard deviation here."
   ]
  },
  {
   "cell_type": "code",
   "execution_count": 6,
   "metadata": {},
   "outputs": [
    {
     "name": "stdout",
     "output_type": "stream",
     "text": [
      "     name  age\n",
      "0    Greg   14\n",
      "1  Marcia   12\n",
      "2   Peter   11\n",
      "3     Jan   10\n",
      "4   Bobby    8\n",
      "5   Cindy    7\n",
      "6  Oliver    8\n",
      "10.0\n",
      "10.0\n",
      "8\n",
      "6.333333333333333\n",
      "2.32992949004287\n",
      "0.8806305718527109\n"
     ]
    }
   ],
   "source": [
    "## Question 3\n",
    "data['name'] = ['Greg','Marcia','Peter','Jan','Bobby','Cindy','Oliver']\n",
    "data['age'] = [14,12,11,10,8,7,8]\n",
    "print(data)\n",
    "print(np.mean(data['age']))\n",
    "print(np.median(data['age']))\n",
    "print(statistics.mode(data['age']))\n",
    "print(data['age'].var())\n",
    "print(np.std(data['age']))\n",
    "print(np.std(data['age']) / np.sqrt(len(data['age'])))\n",
    "\n",
    "## Mean slightly changed, median and mode stayed the same.\n",
    "## All variance elements slightly changed as well - moved the extremity of 6 closer to the \"center\" of the data\n",
    "## thus seeing standard deviation become lower."
   ]
  },
  {
   "cell_type": "code",
   "execution_count": 8,
   "metadata": {},
   "outputs": [
    {
     "name": "stdout",
     "output_type": "stream",
     "text": [
      "      name  age\n",
      "0     Greg   14\n",
      "1   Marcia   12\n",
      "2    Peter   11\n",
      "3      Jan   10\n",
      "4    Bobby    8\n",
      "5    Cindy    7\n",
      "6  Jessica    1\n",
      "9.0\n",
      "10.0\n",
      "18.0\n",
      "3.927922024247863\n",
      "1.4846149779161806\n"
     ]
    }
   ],
   "source": [
    "## Question 4\n",
    "data['name'] = ['Greg','Marcia','Peter','Jan','Bobby','Cindy','Jessica']\n",
    "data['age'] = [14,12,11,10,8,7,1]\n",
    "print(data)\n",
    "print(np.mean(data['age']))\n",
    "print(np.median(data['age']))\n",
    "#print(statistics.mode(data['age']))\n",
    "print(data['age'].var())\n",
    "print(np.std(data['age']))\n",
    "print(np.std(data['age']) / np.sqrt(len(data['age'])))\n",
    "\n",
    "## I don't think this would change my choice of central tendency (mean) because the average still takes into account \n",
    "## relatively all the values in the dataset. I would most likely keep standard deviation as well because it tells me\n",
    "## how much the data moved towards its extremities - standard error also kind of reflects this assessment too."
   ]
  },
  {
   "cell_type": "code",
   "execution_count": 16,
   "metadata": {},
   "outputs": [
    {
     "name": "stdout",
     "output_type": "stream",
     "text": [
      "         name  percentage\n",
      "0     tvGuide        0.20\n",
      "1   entWeekly        0.23\n",
      "2  popCulture        0.17\n",
      "0.20000000000000004\n"
     ]
    }
   ],
   "source": [
    "## Question 5\n",
    "magazine = pd.DataFrame()\n",
    "magazine['name'] = ['tvGuide', 'entWeekly','popCulture']\n",
    "magazine['percentage'] = [.20,.23,.17]\n",
    "print(magazine)\n",
    "print(np.mean(magazine['percentage']))\n",
    "\n",
    "## When you include sciPhi magazines into your estimates, it brings the overall average down because of how extreme\n",
    "## the value is in relative to other data points. By removing this extremity, we most likely get a better representation\n",
    "## of the estimated viewership because the a Science Fiction magazine maybe shouldn't have the same weight as other\n",
    "## pop-culture magazines. By removing it we get about a 20% average versus a 16% average."
   ]
  },
  {
   "cell_type": "code",
   "execution_count": null,
   "metadata": {},
   "outputs": [],
   "source": []
  }
 ],
 "metadata": {
  "kernelspec": {
   "display_name": "Python 3",
   "language": "python",
   "name": "python3"
  },
  "language_info": {
   "codemirror_mode": {
    "name": "ipython",
    "version": 3
   },
   "file_extension": ".py",
   "mimetype": "text/x-python",
   "name": "python",
   "nbconvert_exporter": "python",
   "pygments_lexer": "ipython3",
   "version": "3.7.0"
  }
 },
 "nbformat": 4,
 "nbformat_minor": 2
}
